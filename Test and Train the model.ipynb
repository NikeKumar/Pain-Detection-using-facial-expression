{
  "nbformat": 4,
  "nbformat_minor": 0,
  "metadata": {
    "colab": {
      "provenance": []
    },
    "kernelspec": {
      "name": "python3",
      "display_name": "Python 3"
    },
    "language_info": {
      "name": "python"
    },
    "accelerator": "GPU",
    "gpuClass": "standard"
  },
  "cells": [
    {
      "cell_type": "code",
      "execution_count": null,
      "metadata": {
        "id": "U0k3uUZ2uk8b"
      },
      "outputs": [],
      "source": [
        "import pandas as pd\n",
        "import numpy as np "
      ]
    },
    {
      "cell_type": "code",
      "source": [
        "df = pd.read_pickle('/content/drive/MyDrive/Pain_Detection/saves/training_data.pkl')"
      ],
      "metadata": {
        "id": "A3ulQnR-vgce"
      },
      "execution_count": null,
      "outputs": []
    },
    {
      "cell_type": "code",
      "source": [
        "data = pd.DataFrame(df)"
      ],
      "metadata": {
        "id": "kbI2kBzowERu"
      },
      "execution_count": null,
      "outputs": []
    },
    {
      "cell_type": "code",
      "source": [
        "data.head()"
      ],
      "metadata": {
        "colab": {
          "base_uri": "https://localhost:8080/",
          "height": 206
        },
        "id": "sLL7TQFqw09o",
        "outputId": "183a65da-4674-4625-f959-1f5131a5f658"
      },
      "execution_count": null,
      "outputs": [
        {
          "output_type": "execute_result",
          "data": {
            "text/plain": [
              "                                                   0  1\n",
              "0  [[[46, 32, 33], [52, 32, 29], [52, 32, 29], [5...  0\n",
              "1  [[[118, 77, 76], [121, 75, 66], [121, 75, 66],...  0\n",
              "2  [[[115, 120, 118], [95, 96, 97], [86, 92, 97],...  0\n",
              "3  [[[107, 90, 82], [105, 86, 77], [109, 85, 75],...  1\n",
              "4  [[[91, 85, 82], [91, 85, 81], [91, 85, 81], [9...  0"
            ],
            "text/html": [
              "\n",
              "  <div id=\"df-7ae62af2-df99-4fb4-9241-8ce94dd329a0\">\n",
              "    <div class=\"colab-df-container\">\n",
              "      <div>\n",
              "<style scoped>\n",
              "    .dataframe tbody tr th:only-of-type {\n",
              "        vertical-align: middle;\n",
              "    }\n",
              "\n",
              "    .dataframe tbody tr th {\n",
              "        vertical-align: top;\n",
              "    }\n",
              "\n",
              "    .dataframe thead th {\n",
              "        text-align: right;\n",
              "    }\n",
              "</style>\n",
              "<table border=\"1\" class=\"dataframe\">\n",
              "  <thead>\n",
              "    <tr style=\"text-align: right;\">\n",
              "      <th></th>\n",
              "      <th>0</th>\n",
              "      <th>1</th>\n",
              "    </tr>\n",
              "  </thead>\n",
              "  <tbody>\n",
              "    <tr>\n",
              "      <th>0</th>\n",
              "      <td>[[[46, 32, 33], [52, 32, 29], [52, 32, 29], [5...</td>\n",
              "      <td>0</td>\n",
              "    </tr>\n",
              "    <tr>\n",
              "      <th>1</th>\n",
              "      <td>[[[118, 77, 76], [121, 75, 66], [121, 75, 66],...</td>\n",
              "      <td>0</td>\n",
              "    </tr>\n",
              "    <tr>\n",
              "      <th>2</th>\n",
              "      <td>[[[115, 120, 118], [95, 96, 97], [86, 92, 97],...</td>\n",
              "      <td>0</td>\n",
              "    </tr>\n",
              "    <tr>\n",
              "      <th>3</th>\n",
              "      <td>[[[107, 90, 82], [105, 86, 77], [109, 85, 75],...</td>\n",
              "      <td>1</td>\n",
              "    </tr>\n",
              "    <tr>\n",
              "      <th>4</th>\n",
              "      <td>[[[91, 85, 82], [91, 85, 81], [91, 85, 81], [9...</td>\n",
              "      <td>0</td>\n",
              "    </tr>\n",
              "  </tbody>\n",
              "</table>\n",
              "</div>\n",
              "      <button class=\"colab-df-convert\" onclick=\"convertToInteractive('df-7ae62af2-df99-4fb4-9241-8ce94dd329a0')\"\n",
              "              title=\"Convert this dataframe to an interactive table.\"\n",
              "              style=\"display:none;\">\n",
              "        \n",
              "  <svg xmlns=\"http://www.w3.org/2000/svg\" height=\"24px\"viewBox=\"0 0 24 24\"\n",
              "       width=\"24px\">\n",
              "    <path d=\"M0 0h24v24H0V0z\" fill=\"none\"/>\n",
              "    <path d=\"M18.56 5.44l.94 2.06.94-2.06 2.06-.94-2.06-.94-.94-2.06-.94 2.06-2.06.94zm-11 1L8.5 8.5l.94-2.06 2.06-.94-2.06-.94L8.5 2.5l-.94 2.06-2.06.94zm10 10l.94 2.06.94-2.06 2.06-.94-2.06-.94-.94-2.06-.94 2.06-2.06.94z\"/><path d=\"M17.41 7.96l-1.37-1.37c-.4-.4-.92-.59-1.43-.59-.52 0-1.04.2-1.43.59L10.3 9.45l-7.72 7.72c-.78.78-.78 2.05 0 2.83L4 21.41c.39.39.9.59 1.41.59.51 0 1.02-.2 1.41-.59l7.78-7.78 2.81-2.81c.8-.78.8-2.07 0-2.86zM5.41 20L4 18.59l7.72-7.72 1.47 1.35L5.41 20z\"/>\n",
              "  </svg>\n",
              "      </button>\n",
              "      \n",
              "  <style>\n",
              "    .colab-df-container {\n",
              "      display:flex;\n",
              "      flex-wrap:wrap;\n",
              "      gap: 12px;\n",
              "    }\n",
              "\n",
              "    .colab-df-convert {\n",
              "      background-color: #E8F0FE;\n",
              "      border: none;\n",
              "      border-radius: 50%;\n",
              "      cursor: pointer;\n",
              "      display: none;\n",
              "      fill: #1967D2;\n",
              "      height: 32px;\n",
              "      padding: 0 0 0 0;\n",
              "      width: 32px;\n",
              "    }\n",
              "\n",
              "    .colab-df-convert:hover {\n",
              "      background-color: #E2EBFA;\n",
              "      box-shadow: 0px 1px 2px rgba(60, 64, 67, 0.3), 0px 1px 3px 1px rgba(60, 64, 67, 0.15);\n",
              "      fill: #174EA6;\n",
              "    }\n",
              "\n",
              "    [theme=dark] .colab-df-convert {\n",
              "      background-color: #3B4455;\n",
              "      fill: #D2E3FC;\n",
              "    }\n",
              "\n",
              "    [theme=dark] .colab-df-convert:hover {\n",
              "      background-color: #434B5C;\n",
              "      box-shadow: 0px 1px 3px 1px rgba(0, 0, 0, 0.15);\n",
              "      filter: drop-shadow(0px 1px 2px rgba(0, 0, 0, 0.3));\n",
              "      fill: #FFFFFF;\n",
              "    }\n",
              "  </style>\n",
              "\n",
              "      <script>\n",
              "        const buttonEl =\n",
              "          document.querySelector('#df-7ae62af2-df99-4fb4-9241-8ce94dd329a0 button.colab-df-convert');\n",
              "        buttonEl.style.display =\n",
              "          google.colab.kernel.accessAllowed ? 'block' : 'none';\n",
              "\n",
              "        async function convertToInteractive(key) {\n",
              "          const element = document.querySelector('#df-7ae62af2-df99-4fb4-9241-8ce94dd329a0');\n",
              "          const dataTable =\n",
              "            await google.colab.kernel.invokeFunction('convertToInteractive',\n",
              "                                                     [key], {});\n",
              "          if (!dataTable) return;\n",
              "\n",
              "          const docLinkHtml = 'Like what you see? Visit the ' +\n",
              "            '<a target=\"_blank\" href=https://colab.research.google.com/notebooks/data_table.ipynb>data table notebook</a>'\n",
              "            + ' to learn more about interactive tables.';\n",
              "          element.innerHTML = '';\n",
              "          dataTable['output_type'] = 'display_data';\n",
              "          await google.colab.output.renderOutput(dataTable, element);\n",
              "          const docLink = document.createElement('div');\n",
              "          docLink.innerHTML = docLinkHtml;\n",
              "          element.appendChild(docLink);\n",
              "        }\n",
              "      </script>\n",
              "    </div>\n",
              "  </div>\n",
              "  "
            ]
          },
          "metadata": {},
          "execution_count": 4
        }
      ]
    },
    {
      "cell_type": "code",
      "source": [
        "data.info()"
      ],
      "metadata": {
        "colab": {
          "base_uri": "https://localhost:8080/"
        },
        "id": "IazRXZecxDCk",
        "outputId": "542740f0-aba6-4e93-bb24-6af0b50d0cd2"
      },
      "execution_count": null,
      "outputs": [
        {
          "output_type": "stream",
          "name": "stdout",
          "text": [
            "<class 'pandas.core.frame.DataFrame'>\n",
            "RangeIndex: 16840 entries, 0 to 16839\n",
            "Data columns (total 2 columns):\n",
            " #   Column  Non-Null Count  Dtype \n",
            "---  ------  --------------  ----- \n",
            " 0   0       16840 non-null  object\n",
            " 1   1       16840 non-null  object\n",
            "dtypes: object(2)\n",
            "memory usage: 263.2+ KB\n"
          ]
        }
      ]
    },
    {
      "cell_type": "code",
      "source": [
        "data.isnull().any()"
      ],
      "metadata": {
        "colab": {
          "base_uri": "https://localhost:8080/"
        },
        "id": "iDfQSLPMyRXL",
        "outputId": "467f086e-a2f0-45b4-c38b-34e401136e87"
      },
      "execution_count": null,
      "outputs": [
        {
          "output_type": "execute_result",
          "data": {
            "text/plain": [
              "0    False\n",
              "1    False\n",
              "dtype: bool"
            ]
          },
          "metadata": {},
          "execution_count": 6
        }
      ]
    },
    {
      "cell_type": "code",
      "source": [
        "data.shape"
      ],
      "metadata": {
        "colab": {
          "base_uri": "https://localhost:8080/"
        },
        "id": "hf3K7UaCzE2v",
        "outputId": "424c0264-b773-4e52-86ac-acbaf260d6c3"
      },
      "execution_count": null,
      "outputs": [
        {
          "output_type": "execute_result",
          "data": {
            "text/plain": [
              "(16840, 2)"
            ]
          },
          "metadata": {},
          "execution_count": 7
        }
      ]
    },
    {
      "cell_type": "code",
      "source": [
        "dataset = data.copy()\n",
        "dataset.head()"
      ],
      "metadata": {
        "colab": {
          "base_uri": "https://localhost:8080/",
          "height": 206
        },
        "id": "0b5Y-RvJykVz",
        "outputId": "5a49cf8f-f8a1-4a31-d816-730c9a0947cf"
      },
      "execution_count": null,
      "outputs": [
        {
          "output_type": "execute_result",
          "data": {
            "text/plain": [
              "                                                   0  1\n",
              "0  [[[46, 32, 33], [52, 32, 29], [52, 32, 29], [5...  0\n",
              "1  [[[118, 77, 76], [121, 75, 66], [121, 75, 66],...  0\n",
              "2  [[[115, 120, 118], [95, 96, 97], [86, 92, 97],...  0\n",
              "3  [[[107, 90, 82], [105, 86, 77], [109, 85, 75],...  1\n",
              "4  [[[91, 85, 82], [91, 85, 81], [91, 85, 81], [9...  0"
            ],
            "text/html": [
              "\n",
              "  <div id=\"df-ec3e2803-8ed3-4e48-8969-eb399208ea45\">\n",
              "    <div class=\"colab-df-container\">\n",
              "      <div>\n",
              "<style scoped>\n",
              "    .dataframe tbody tr th:only-of-type {\n",
              "        vertical-align: middle;\n",
              "    }\n",
              "\n",
              "    .dataframe tbody tr th {\n",
              "        vertical-align: top;\n",
              "    }\n",
              "\n",
              "    .dataframe thead th {\n",
              "        text-align: right;\n",
              "    }\n",
              "</style>\n",
              "<table border=\"1\" class=\"dataframe\">\n",
              "  <thead>\n",
              "    <tr style=\"text-align: right;\">\n",
              "      <th></th>\n",
              "      <th>0</th>\n",
              "      <th>1</th>\n",
              "    </tr>\n",
              "  </thead>\n",
              "  <tbody>\n",
              "    <tr>\n",
              "      <th>0</th>\n",
              "      <td>[[[46, 32, 33], [52, 32, 29], [52, 32, 29], [5...</td>\n",
              "      <td>0</td>\n",
              "    </tr>\n",
              "    <tr>\n",
              "      <th>1</th>\n",
              "      <td>[[[118, 77, 76], [121, 75, 66], [121, 75, 66],...</td>\n",
              "      <td>0</td>\n",
              "    </tr>\n",
              "    <tr>\n",
              "      <th>2</th>\n",
              "      <td>[[[115, 120, 118], [95, 96, 97], [86, 92, 97],...</td>\n",
              "      <td>0</td>\n",
              "    </tr>\n",
              "    <tr>\n",
              "      <th>3</th>\n",
              "      <td>[[[107, 90, 82], [105, 86, 77], [109, 85, 75],...</td>\n",
              "      <td>1</td>\n",
              "    </tr>\n",
              "    <tr>\n",
              "      <th>4</th>\n",
              "      <td>[[[91, 85, 82], [91, 85, 81], [91, 85, 81], [9...</td>\n",
              "      <td>0</td>\n",
              "    </tr>\n",
              "  </tbody>\n",
              "</table>\n",
              "</div>\n",
              "      <button class=\"colab-df-convert\" onclick=\"convertToInteractive('df-ec3e2803-8ed3-4e48-8969-eb399208ea45')\"\n",
              "              title=\"Convert this dataframe to an interactive table.\"\n",
              "              style=\"display:none;\">\n",
              "        \n",
              "  <svg xmlns=\"http://www.w3.org/2000/svg\" height=\"24px\"viewBox=\"0 0 24 24\"\n",
              "       width=\"24px\">\n",
              "    <path d=\"M0 0h24v24H0V0z\" fill=\"none\"/>\n",
              "    <path d=\"M18.56 5.44l.94 2.06.94-2.06 2.06-.94-2.06-.94-.94-2.06-.94 2.06-2.06.94zm-11 1L8.5 8.5l.94-2.06 2.06-.94-2.06-.94L8.5 2.5l-.94 2.06-2.06.94zm10 10l.94 2.06.94-2.06 2.06-.94-2.06-.94-.94-2.06-.94 2.06-2.06.94z\"/><path d=\"M17.41 7.96l-1.37-1.37c-.4-.4-.92-.59-1.43-.59-.52 0-1.04.2-1.43.59L10.3 9.45l-7.72 7.72c-.78.78-.78 2.05 0 2.83L4 21.41c.39.39.9.59 1.41.59.51 0 1.02-.2 1.41-.59l7.78-7.78 2.81-2.81c.8-.78.8-2.07 0-2.86zM5.41 20L4 18.59l7.72-7.72 1.47 1.35L5.41 20z\"/>\n",
              "  </svg>\n",
              "      </button>\n",
              "      \n",
              "  <style>\n",
              "    .colab-df-container {\n",
              "      display:flex;\n",
              "      flex-wrap:wrap;\n",
              "      gap: 12px;\n",
              "    }\n",
              "\n",
              "    .colab-df-convert {\n",
              "      background-color: #E8F0FE;\n",
              "      border: none;\n",
              "      border-radius: 50%;\n",
              "      cursor: pointer;\n",
              "      display: none;\n",
              "      fill: #1967D2;\n",
              "      height: 32px;\n",
              "      padding: 0 0 0 0;\n",
              "      width: 32px;\n",
              "    }\n",
              "\n",
              "    .colab-df-convert:hover {\n",
              "      background-color: #E2EBFA;\n",
              "      box-shadow: 0px 1px 2px rgba(60, 64, 67, 0.3), 0px 1px 3px 1px rgba(60, 64, 67, 0.15);\n",
              "      fill: #174EA6;\n",
              "    }\n",
              "\n",
              "    [theme=dark] .colab-df-convert {\n",
              "      background-color: #3B4455;\n",
              "      fill: #D2E3FC;\n",
              "    }\n",
              "\n",
              "    [theme=dark] .colab-df-convert:hover {\n",
              "      background-color: #434B5C;\n",
              "      box-shadow: 0px 1px 3px 1px rgba(0, 0, 0, 0.15);\n",
              "      filter: drop-shadow(0px 1px 2px rgba(0, 0, 0, 0.3));\n",
              "      fill: #FFFFFF;\n",
              "    }\n",
              "  </style>\n",
              "\n",
              "      <script>\n",
              "        const buttonEl =\n",
              "          document.querySelector('#df-ec3e2803-8ed3-4e48-8969-eb399208ea45 button.colab-df-convert');\n",
              "        buttonEl.style.display =\n",
              "          google.colab.kernel.accessAllowed ? 'block' : 'none';\n",
              "\n",
              "        async function convertToInteractive(key) {\n",
              "          const element = document.querySelector('#df-ec3e2803-8ed3-4e48-8969-eb399208ea45');\n",
              "          const dataTable =\n",
              "            await google.colab.kernel.invokeFunction('convertToInteractive',\n",
              "                                                     [key], {});\n",
              "          if (!dataTable) return;\n",
              "\n",
              "          const docLinkHtml = 'Like what you see? Visit the ' +\n",
              "            '<a target=\"_blank\" href=https://colab.research.google.com/notebooks/data_table.ipynb>data table notebook</a>'\n",
              "            + ' to learn more about interactive tables.';\n",
              "          element.innerHTML = '';\n",
              "          dataTable['output_type'] = 'display_data';\n",
              "          await google.colab.output.renderOutput(dataTable, element);\n",
              "          const docLink = document.createElement('div');\n",
              "          docLink.innerHTML = docLinkHtml;\n",
              "          element.appendChild(docLink);\n",
              "        }\n",
              "      </script>\n",
              "    </div>\n",
              "  </div>\n",
              "  "
            ]
          },
          "metadata": {},
          "execution_count": 8
        }
      ]
    },
    {
      "cell_type": "code",
      "source": [
        "x = dataset[0]\n",
        "y = dataset[1]"
      ],
      "metadata": {
        "id": "CUkB2aIs0MIG"
      },
      "execution_count": null,
      "outputs": []
    },
    {
      "cell_type": "code",
      "source": [
        "from sklearn.model_selection import train_test_split"
      ],
      "metadata": {
        "id": "7aKzf_aa0Mzo"
      },
      "execution_count": null,
      "outputs": []
    },
    {
      "cell_type": "code",
      "source": [
        "x_train, x_test, y_train, y_test = train_test_split(x, y, test_size=0.20, random_state=42)"
      ],
      "metadata": {
        "id": "kiTw_5YQ0Mfb"
      },
      "execution_count": null,
      "outputs": []
    },
    {
      "cell_type": "code",
      "source": [
        "import keras as ks\n",
        "from keras.models import Sequential,Model\n",
        "from tensorflow.keras.utils import to_categorical\n",
        "from keras import applications\n",
        "from keras.layers import Conv2D, MaxPooling2D\n",
        "from keras.layers import Activation, Dropout, Flatten, Dense,BatchNormalization"
      ],
      "metadata": {
        "id": "d2EFSVx50NK9"
      },
      "execution_count": null,
      "outputs": []
    },
    {
      "cell_type": "code",
      "source": [
        "y_train = to_categorical(y_train)\n",
        "y_test = to_categorical(y_test)"
      ],
      "metadata": {
        "id": "gWtroi3J7NVr"
      },
      "execution_count": null,
      "outputs": []
    },
    {
      "cell_type": "code",
      "source": [
        "tune_model = applications.vgg16.VGG16(weights='imagenet', include_top=False,input_shape=(200, 200, 3))"
      ],
      "metadata": {
        "colab": {
          "base_uri": "https://localhost:8080/"
        },
        "id": "pTEowNjl7Np8",
        "outputId": "c57e1f6c-4d6c-4ff4-9ce8-89a2cd8cb2b4"
      },
      "execution_count": null,
      "outputs": [
        {
          "output_type": "stream",
          "name": "stdout",
          "text": [
            "Downloading data from https://storage.googleapis.com/tensorflow/keras-applications/vgg16/vgg16_weights_tf_dim_ordering_tf_kernels_notop.h5\n",
            "58889256/58889256 [==============================] - 1s 0us/step\n"
          ]
        }
      ]
    },
    {
      "cell_type": "code",
      "source": [
        "model = Sequential()"
      ],
      "metadata": {
        "id": "HL0RdTVe1s0P"
      },
      "execution_count": null,
      "outputs": []
    },
    {
      "cell_type": "code",
      "source": [
        "for layer in tune_model.layers:\n",
        "    model.add(layer)\n",
        "\n",
        "for layer in model.layers:\n",
        "    layer.trainable = False"
      ],
      "metadata": {
        "id": "OaRbm3y27gCN"
      },
      "execution_count": null,
      "outputs": []
    },
    {
      "cell_type": "code",
      "source": [
        "model.add(Conv2D(256,3, 3, padding=\"same\",activation='relu'))\n",
        "model.add(Conv2D(512,3, 3, padding=\"same\",activation='relu'))\n",
        "model.add(MaxPooling2D(pool_size=(1, 1)))\n",
        "model.add(Flatten())\n",
        "model.add(Dense(512,activation='relu'))\n",
        "model.add(Dropout(0.5))\n",
        "model.add(Dense(256, activation='relu'))\n",
        "model.add(Dropout(0.4))\n",
        "model.add(Dense(128, activation='relu'))\n",
        "model.add(Dropout(0.3))\n",
        "\n",
        "model.add(Dense(2,activation='softmax'))"
      ],
      "metadata": {
        "id": "boPlJhoM10vF"
      },
      "execution_count": null,
      "outputs": []
    },
    {
      "cell_type": "code",
      "source": [
        "model.compile(optimizer='Adam',loss='categorical_crossentropy',metrics=['accuracy'])"
      ],
      "metadata": {
        "id": "kW2pKwsZ10-X"
      },
      "execution_count": null,
      "outputs": []
    },
    {
      "cell_type": "code",
      "source": [
        "x_train.shape\n",
        "y_train.shape\n",
        "x_test.shape\n",
        "y_test.shape"
      ],
      "metadata": {
        "colab": {
          "base_uri": "https://localhost:8080/"
        },
        "id": "QwkvgqZ73Hsw",
        "outputId": "fa188c09-04fe-42c9-dbbd-9d0c3c242a8b"
      },
      "execution_count": null,
      "outputs": [
        {
          "output_type": "execute_result",
          "data": {
            "text/plain": [
              "(3368, 2)"
            ]
          },
          "metadata": {},
          "execution_count": 19
        }
      ]
    },
    {
      "cell_type": "code",
      "source": [
        "print(type(x_train))\n",
        "print(type(x_test))\n",
        "print(type(y_train))\n",
        "print(type(y_test))\n",
        "#print(x_train.head())"
      ],
      "metadata": {
        "colab": {
          "base_uri": "https://localhost:8080/"
        },
        "id": "p7MpZHl03gKZ",
        "outputId": "39889378-b117-4f11-fc87-11e386178ab6"
      },
      "execution_count": null,
      "outputs": [
        {
          "output_type": "stream",
          "name": "stdout",
          "text": [
            "<class 'pandas.core.series.Series'>\n",
            "<class 'pandas.core.series.Series'>\n",
            "<class 'numpy.ndarray'>\n",
            "<class 'numpy.ndarray'>\n"
          ]
        }
      ]
    },
    {
      "cell_type": "code",
      "source": [
        "x_train = np.array([np.array(val) for val in x_train])\n",
        "y_train = np.array([np.array(val) for val in y_train])\n",
        "x_test = np.array([np.array(val) for val in x_test])\n",
        "y_test = np.array([np.array(val) for val in y_test])"
      ],
      "metadata": {
        "id": "oEdcphwL87J1"
      },
      "execution_count": null,
      "outputs": []
    },
    {
      "cell_type": "code",
      "source": [
        "print(type(x_train))\n",
        "print(type(x_test))\n",
        "print(type(y_train))\n",
        "print(type(y_test))"
      ],
      "metadata": {
        "colab": {
          "base_uri": "https://localhost:8080/"
        },
        "id": "tXrEj8ma4yo3",
        "outputId": "17fa04b4-d1ac-486d-9717-2d14ea03b450"
      },
      "execution_count": null,
      "outputs": [
        {
          "output_type": "stream",
          "name": "stdout",
          "text": [
            "<class 'numpy.ndarray'>\n",
            "<class 'numpy.ndarray'>\n",
            "<class 'numpy.ndarray'>\n",
            "<class 'numpy.ndarray'>\n"
          ]
        }
      ]
    },
    {
      "cell_type": "code",
      "source": [
        "m = model.fit(x_train, y_train, epochs=20, validation_data = (x_test, y_test),batch_size = 64)"
      ],
      "metadata": {
        "colab": {
          "base_uri": "https://localhost:8080/"
        },
        "id": "z_lMJ-Kx2Y1T",
        "outputId": "95a9c8cf-8849-40a2-968e-b7e3b79dfe04"
      },
      "execution_count": null,
      "outputs": [
        {
          "output_type": "stream",
          "name": "stdout",
          "text": [
            "Epoch 1/20\n",
            "211/211 [==============================] - 83s 309ms/step - loss: 0.6026 - accuracy: 0.7352 - val_loss: 0.4315 - val_accuracy: 0.7850\n",
            "Epoch 2/20\n",
            "211/211 [==============================] - 70s 332ms/step - loss: 0.4141 - accuracy: 0.7971 - val_loss: 0.4163 - val_accuracy: 0.7990\n",
            "Epoch 3/20\n",
            "211/211 [==============================] - 70s 332ms/step - loss: 0.3937 - accuracy: 0.8051 - val_loss: 0.3879 - val_accuracy: 0.8088\n",
            "Epoch 4/20\n",
            "211/211 [==============================] - 70s 331ms/step - loss: 0.3808 - accuracy: 0.8159 - val_loss: 0.3892 - val_accuracy: 0.8067\n",
            "Epoch 5/20\n",
            "211/211 [==============================] - 70s 331ms/step - loss: 0.3756 - accuracy: 0.8139 - val_loss: 0.3988 - val_accuracy: 0.8064\n",
            "Epoch 6/20\n",
            "211/211 [==============================] - 61s 291ms/step - loss: 0.3710 - accuracy: 0.8189 - val_loss: 0.3935 - val_accuracy: 0.8135\n",
            "Epoch 7/20\n",
            "211/211 [==============================] - 68s 325ms/step - loss: 0.3684 - accuracy: 0.8200 - val_loss: 0.3964 - val_accuracy: 0.8097\n",
            "Epoch 8/20\n",
            "211/211 [==============================] - 70s 331ms/step - loss: 0.3632 - accuracy: 0.8242 - val_loss: 0.3882 - val_accuracy: 0.8132\n",
            "Epoch 9/20\n",
            "211/211 [==============================] - 70s 332ms/step - loss: 0.3602 - accuracy: 0.8235 - val_loss: 0.4071 - val_accuracy: 0.8112\n",
            "Epoch 10/20\n",
            "211/211 [==============================] - 70s 332ms/step - loss: 0.3611 - accuracy: 0.8226 - val_loss: 0.3921 - val_accuracy: 0.8070\n",
            "Epoch 11/20\n",
            "211/211 [==============================] - 70s 331ms/step - loss: 0.3617 - accuracy: 0.8251 - val_loss: 0.4010 - val_accuracy: 0.8109\n",
            "Epoch 12/20\n",
            "211/211 [==============================] - 61s 290ms/step - loss: 0.3596 - accuracy: 0.8267 - val_loss: 0.4061 - val_accuracy: 0.8103\n",
            "Epoch 13/20\n",
            "211/211 [==============================] - 68s 324ms/step - loss: 0.3538 - accuracy: 0.8261 - val_loss: 0.4120 - val_accuracy: 0.8082\n",
            "Epoch 14/20\n",
            "211/211 [==============================] - 70s 332ms/step - loss: 0.3543 - accuracy: 0.8274 - val_loss: 0.3957 - val_accuracy: 0.8034\n",
            "Epoch 15/20\n",
            "211/211 [==============================] - 61s 291ms/step - loss: 0.3520 - accuracy: 0.8259 - val_loss: 0.4025 - val_accuracy: 0.8067\n",
            "Epoch 16/20\n",
            "211/211 [==============================] - 68s 325ms/step - loss: 0.3536 - accuracy: 0.8259 - val_loss: 0.4098 - val_accuracy: 0.8052\n",
            "Epoch 17/20\n",
            "211/211 [==============================] - 70s 331ms/step - loss: 0.3516 - accuracy: 0.8269 - val_loss: 0.4238 - val_accuracy: 0.8046\n",
            "Epoch 18/20\n",
            "211/211 [==============================] - 62s 292ms/step - loss: 0.3501 - accuracy: 0.8281 - val_loss: 0.4007 - val_accuracy: 0.8020\n",
            "Epoch 19/20\n",
            "211/211 [==============================] - 69s 325ms/step - loss: 0.3482 - accuracy: 0.8283 - val_loss: 0.4053 - val_accuracy: 0.8034\n",
            "Epoch 20/20\n",
            "211/211 [==============================] - 70s 332ms/step - loss: 0.3452 - accuracy: 0.8264 - val_loss: 0.4088 - val_accuracy: 0.7957\n"
          ]
        }
      ]
    },
    {
      "cell_type": "code",
      "source": [
        "model.save(\"/content/drive/MyDrive/Pain_Detection/ saves/pain_model.h5\")"
      ],
      "metadata": {
        "id": "LE4yZ129nzRh"
      },
      "execution_count": null,
      "outputs": []
    },
    {
      "cell_type": "code",
      "source": [
        "print(m.history['loss'])\n",
        "print(m.history['val_loss'])\n",
        "print(m.history['accuracy'])\n",
        "print(m.history['val_accuracy'])\n"
      ],
      "metadata": {
        "colab": {
          "base_uri": "https://localhost:8080/"
        },
        "id": "N_W1A8-rqYkv",
        "outputId": "f7963527-f2c7-406f-e08c-9fc054aa8f7c"
      },
      "execution_count": null,
      "outputs": [
        {
          "output_type": "stream",
          "name": "stdout",
          "text": [
            "[0.6026208400726318, 0.4141123592853546, 0.3937411606311798, 0.3808440864086151, 0.375591903924942, 0.3709896206855774, 0.3683722913265228, 0.3631714880466461, 0.36021673679351807, 0.3610745966434479, 0.36166685819625854, 0.359640896320343, 0.3537839651107788, 0.3543368875980377, 0.3519669473171234, 0.35362181067466736, 0.35157865285873413, 0.3501318693161011, 0.34823134541511536, 0.34519216418266296]\n",
            "[0.43148237466812134, 0.41631898283958435, 0.38791462779045105, 0.38916417956352234, 0.3987550437450409, 0.39348727464675903, 0.39638859033584595, 0.3882180154323578, 0.4071435332298279, 0.3920650780200958, 0.4010092616081238, 0.40610164403915405, 0.4120493233203888, 0.3957344591617584, 0.40253835916519165, 0.4098328649997711, 0.42377299070358276, 0.40065646171569824, 0.4053359627723694, 0.4088350832462311]\n",
            "[0.7352285981178284, 0.7971348166465759, 0.8050771951675415, 0.815914511680603, 0.8139103055000305, 0.8188835978507996, 0.8199970126152039, 0.8241537809371948, 0.8234857320785522, 0.8225950002670288, 0.8251187801361084, 0.8266775608062744, 0.8260837197303772, 0.8274198174476624, 0.8259352445602417, 0.8258610367774963, 0.8269002437591553, 0.8280878663063049, 0.8283105492591858, 0.8263806700706482]\n",
            "[0.7850356101989746, 0.7989904880523682, 0.8087885975837708, 0.8067102432250977, 0.8064132928848267, 0.8135392069816589, 0.8096793293952942, 0.8132422566413879, 0.8111639022827148, 0.8070071339607239, 0.8108670115470886, 0.8102731704711914, 0.8081947565078735, 0.8034442067146301, 0.8067102432250977, 0.805225670337677, 0.8046318292617798, 0.8019596338272095, 0.8034442067146301, 0.7957244515419006]\n"
          ]
        }
      ]
    },
    {
      "cell_type": "code",
      "source": [
        "import tensorflow as tf\n",
        "from tensorflow.python.ops.math_ops import arg_max"
      ],
      "metadata": {
        "id": "TYHh7pVKraCl"
      },
      "execution_count": null,
      "outputs": []
    },
    {
      "cell_type": "code",
      "source": [
        "model=tf.keras.models.load_model(\"/content/drive/MyDrive/Pain_Detection/saves/pain_model.h5\")"
      ],
      "metadata": {
        "id": "s38I1MaYracG"
      },
      "execution_count": null,
      "outputs": []
    },
    {
      "cell_type": "code",
      "source": [
        "import cv2\n",
        "def test(image):\n",
        "  img=cv2.imread(image, cv2.IMREAD_COLOR)\n",
        "  img=cv2.resize(img,(200,200))\n",
        "  test = np.array(img).reshape(-1, 200, 200, 3)\n",
        "  prediction=model.predict(test)\n",
        "  print(prediction)\n",
        "  print(np.argmax(prediction[0]))\n",
        "  "
      ],
      "metadata": {
        "id": "zoeFyhtYrz2n"
      },
      "execution_count": null,
      "outputs": []
    },
    {
      "cell_type": "code",
      "source": [
        "from google.colab.patches import cv2_imshow\n",
        "image = '/content/drive/MyDrive/Pain_Detection/1.jfif'\n",
        "#cv2_imshow(image)\n",
        "test(image)"
      ],
      "metadata": {
        "colab": {
          "base_uri": "https://localhost:8080/"
        },
        "id": "KZCZMZKgstyc",
        "outputId": "c1f9cbf4-d771-4733-e75c-4762d774da96"
      },
      "execution_count": null,
      "outputs": [
        {
          "output_type": "stream",
          "name": "stdout",
          "text": [
            "1/1 [==============================] - 8s 8s/step\n",
            "[[0.9969126 0.0030874]]\n",
            "0\n"
          ]
        }
      ]
    },
    {
      "cell_type": "code",
      "source": [
        "image = '/content/drive/MyDrive/Pain_Detection/pain.jfif'\n",
        "test(image)"
      ],
      "metadata": {
        "colab": {
          "base_uri": "https://localhost:8080/"
        },
        "id": "XwAKoJ3csXg9",
        "outputId": "6015c97e-bc41-4d71-ed96-0ba2d9f8456f"
      },
      "execution_count": null,
      "outputs": [
        {
          "output_type": "stream",
          "name": "stdout",
          "text": [
            "1/1 [==============================] - 0s 28ms/step\n",
            "[[0.63529164 0.3647084 ]]\n",
            "0\n"
          ]
        }
      ]
    },
    {
      "cell_type": "code",
      "source": [
        "image = '/content/drive/MyDrive/Pain_Detection/nopain.jfif'\n",
        "test(image)"
      ],
      "metadata": {
        "colab": {
          "base_uri": "https://localhost:8080/"
        },
        "id": "Vef6i1OYttaF",
        "outputId": "de1375a2-f455-4846-bf44-f23bc02e3f6e"
      },
      "execution_count": null,
      "outputs": [
        {
          "output_type": "stream",
          "name": "stdout",
          "text": [
            "1/1 [==============================] - 0s 20ms/step\n",
            "[[0.5549717 0.4450283]]\n",
            "0\n"
          ]
        }
      ]
    },
    {
      "cell_type": "code",
      "source": [
        "image = '/content/drive/MyDrive/Pain_Detection/2.jfif'\n",
        "test(image)"
      ],
      "metadata": {
        "colab": {
          "base_uri": "https://localhost:8080/"
        },
        "id": "19wZSGTltyCp",
        "outputId": "473172aa-01d0-4d8c-b423-2e65b373eaba"
      },
      "execution_count": null,
      "outputs": [
        {
          "output_type": "stream",
          "name": "stdout",
          "text": [
            "1/1 [==============================] - 0s 19ms/step\n",
            "[[0.593085 0.406915]]\n",
            "0\n"
          ]
        }
      ]
    },
    {
      "cell_type": "code",
      "source": [
        "image = '/content/drive/MyDrive/Pain_Detection/11.jfif'\n",
        "test(image)"
      ],
      "metadata": {
        "colab": {
          "base_uri": "https://localhost:8080/"
        },
        "id": "pQRKoUZzLvNu",
        "outputId": "e13589c5-f1c9-419a-8975-3a6c61d8bc63"
      },
      "execution_count": null,
      "outputs": [
        {
          "output_type": "stream",
          "name": "stdout",
          "text": [
            "1/1 [==============================] - 0s 20ms/step\n",
            "[[0.12307069 0.8769293 ]]\n",
            "1\n"
          ]
        }
      ]
    },
    {
      "cell_type": "code",
      "source": [
        "image = '/content/drive/MyDrive/Pain_Detection/12.jfif'\n",
        "test(image)"
      ],
      "metadata": {
        "colab": {
          "base_uri": "https://localhost:8080/"
        },
        "id": "Q7AW9HZTLv_V",
        "outputId": "8f11eae8-bf47-4025-a894-57e8ccab31e1"
      },
      "execution_count": null,
      "outputs": [
        {
          "output_type": "stream",
          "name": "stdout",
          "text": [
            "1/1 [==============================] - 0s 19ms/step\n",
            "[[0.09390801 0.906092  ]]\n",
            "1\n"
          ]
        }
      ]
    },
    {
      "cell_type": "code",
      "source": [
        "image = '/content/drive/MyDrive/Pain_Detection/21.jfif'\n",
        "test(image)"
      ],
      "metadata": {
        "colab": {
          "base_uri": "https://localhost:8080/"
        },
        "id": "gFVZZwFPLwvF",
        "outputId": "ddf2f616-fcba-4081-9d0c-6e1358082ee6"
      },
      "execution_count": null,
      "outputs": [
        {
          "output_type": "stream",
          "name": "stdout",
          "text": [
            "1/1 [==============================] - 0s 20ms/step\n",
            "[[0.9103476  0.08965246]]\n",
            "0\n"
          ]
        }
      ]
    },
    {
      "cell_type": "code",
      "source": [
        "image = '/content/drive/MyDrive/Pain_Detection/22.jfif'\n",
        "test(image)"
      ],
      "metadata": {
        "colab": {
          "base_uri": "https://localhost:8080/"
        },
        "id": "c30MfesfLxFT",
        "outputId": "e9a7ccaf-fe75-4003-e534-211ad7156416"
      },
      "execution_count": null,
      "outputs": [
        {
          "output_type": "stream",
          "name": "stdout",
          "text": [
            "1/1 [==============================] - 0s 19ms/step\n",
            "[[0.6845649  0.31543514]]\n",
            "0\n"
          ]
        }
      ]
    },
    {
      "cell_type": "code",
      "source": [
        "image = '/content/drive/MyDrive/Pain_Detection/31.jfif'\n",
        "test(image)"
      ],
      "metadata": {
        "colab": {
          "base_uri": "https://localhost:8080/"
        },
        "id": "kRbt6xVBLxT0",
        "outputId": "89bc04e1-59b3-4742-9bc7-ecd166bc82e5"
      },
      "execution_count": null,
      "outputs": [
        {
          "output_type": "stream",
          "name": "stdout",
          "text": [
            "1/1 [==============================] - 0s 27ms/step\n",
            "[[0.4368703 0.5631297]]\n",
            "1\n"
          ]
        }
      ]
    },
    {
      "cell_type": "code",
      "source": [
        "image = '/content/drive/MyDrive/Pain_Detection/32.jfif'\n",
        "test(image)"
      ],
      "metadata": {
        "colab": {
          "base_uri": "https://localhost:8080/"
        },
        "id": "e9I_tc7_Lxlu",
        "outputId": "3d1833df-7d75-47af-ceb1-8f6900bfc5eb"
      },
      "execution_count": null,
      "outputs": [
        {
          "output_type": "stream",
          "name": "stdout",
          "text": [
            "1/1 [==============================] - 0s 22ms/step\n",
            "[[0.59169406 0.40830594]]\n",
            "0\n"
          ]
        }
      ]
    }
  ]
}